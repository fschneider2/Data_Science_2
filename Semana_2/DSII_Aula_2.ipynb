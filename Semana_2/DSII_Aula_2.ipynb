{
 "cells": [
  {
   "cell_type": "code",
   "execution_count": 1,
   "metadata": {},
   "outputs": [],
   "source": [
    "import pandas as pd\n",
    "import numpy as np"
   ]
  },
  {
   "cell_type": "code",
   "execution_count": 2,
   "metadata": {},
   "outputs": [
    {
     "data": {
      "text/html": [
       "<div>\n",
       "<style scoped>\n",
       "    .dataframe tbody tr th:only-of-type {\n",
       "        vertical-align: middle;\n",
       "    }\n",
       "\n",
       "    .dataframe tbody tr th {\n",
       "        vertical-align: top;\n",
       "    }\n",
       "\n",
       "    .dataframe thead th {\n",
       "        text-align: right;\n",
       "    }\n",
       "</style>\n",
       "<table border=\"1\" class=\"dataframe\">\n",
       "  <thead>\n",
       "    <tr style=\"text-align: right;\">\n",
       "      <th></th>\n",
       "      <th>cargo_id</th>\n",
       "      <th>cargo_nome</th>\n",
       "      <th>cargo_nivel</th>\n",
       "      <th>cargo_salario</th>\n",
       "    </tr>\n",
       "  </thead>\n",
       "  <tbody>\n",
       "    <tr>\n",
       "      <th>0</th>\n",
       "      <td>1</td>\n",
       "      <td>Estagiario</td>\n",
       "      <td>1</td>\n",
       "      <td>1200</td>\n",
       "    </tr>\n",
       "    <tr>\n",
       "      <th>1</th>\n",
       "      <td>2</td>\n",
       "      <td>Analista</td>\n",
       "      <td>1</td>\n",
       "      <td>3500</td>\n",
       "    </tr>\n",
       "    <tr>\n",
       "      <th>2</th>\n",
       "      <td>3</td>\n",
       "      <td>Analista</td>\n",
       "      <td>2</td>\n",
       "      <td>3500</td>\n",
       "    </tr>\n",
       "    <tr>\n",
       "      <th>3</th>\n",
       "      <td>4</td>\n",
       "      <td>Especialista</td>\n",
       "      <td>1</td>\n",
       "      <td>7000</td>\n",
       "    </tr>\n",
       "    <tr>\n",
       "      <th>4</th>\n",
       "      <td>5</td>\n",
       "      <td>Especialista</td>\n",
       "      <td>2</td>\n",
       "      <td>7000</td>\n",
       "    </tr>\n",
       "  </tbody>\n",
       "</table>\n",
       "</div>"
      ],
      "text/plain": [
       "   cargo_id    cargo_nome  cargo_nivel  cargo_salario\n",
       "0         1    Estagiario            1           1200\n",
       "1         2      Analista            1           3500\n",
       "2         3      Analista            2           3500\n",
       "3         4  Especialista            1           7000\n",
       "4         5  Especialista            2           7000"
      ]
     },
     "metadata": {},
     "output_type": "display_data"
    },
    {
     "data": {
      "text/html": [
       "<div>\n",
       "<style scoped>\n",
       "    .dataframe tbody tr th:only-of-type {\n",
       "        vertical-align: middle;\n",
       "    }\n",
       "\n",
       "    .dataframe tbody tr th {\n",
       "        vertical-align: top;\n",
       "    }\n",
       "\n",
       "    .dataframe thead th {\n",
       "        text-align: right;\n",
       "    }\n",
       "</style>\n",
       "<table border=\"1\" class=\"dataframe\">\n",
       "  <thead>\n",
       "    <tr style=\"text-align: right;\">\n",
       "      <th></th>\n",
       "      <th>setor_id</th>\n",
       "      <th>setor_nome</th>\n",
       "    </tr>\n",
       "  </thead>\n",
       "  <tbody>\n",
       "    <tr>\n",
       "      <th>0</th>\n",
       "      <td>1</td>\n",
       "      <td>Vendas</td>\n",
       "    </tr>\n",
       "    <tr>\n",
       "      <th>1</th>\n",
       "      <td>2</td>\n",
       "      <td>Compras</td>\n",
       "    </tr>\n",
       "    <tr>\n",
       "      <th>2</th>\n",
       "      <td>3</td>\n",
       "      <td>Marketing</td>\n",
       "    </tr>\n",
       "    <tr>\n",
       "      <th>3</th>\n",
       "      <td>4</td>\n",
       "      <td>Desenvolvimento</td>\n",
       "    </tr>\n",
       "    <tr>\n",
       "      <th>4</th>\n",
       "      <td>5</td>\n",
       "      <td>RH</td>\n",
       "    </tr>\n",
       "  </tbody>\n",
       "</table>\n",
       "</div>"
      ],
      "text/plain": [
       "   setor_id       setor_nome\n",
       "0         1           Vendas\n",
       "1         2          Compras\n",
       "2         3        Marketing\n",
       "3         4  Desenvolvimento\n",
       "4         5               RH"
      ]
     },
     "metadata": {},
     "output_type": "display_data"
    },
    {
     "data": {
      "text/html": [
       "<div>\n",
       "<style scoped>\n",
       "    .dataframe tbody tr th:only-of-type {\n",
       "        vertical-align: middle;\n",
       "    }\n",
       "\n",
       "    .dataframe tbody tr th {\n",
       "        vertical-align: top;\n",
       "    }\n",
       "\n",
       "    .dataframe thead th {\n",
       "        text-align: right;\n",
       "    }\n",
       "</style>\n",
       "<table border=\"1\" class=\"dataframe\">\n",
       "  <thead>\n",
       "    <tr style=\"text-align: right;\">\n",
       "      <th></th>\n",
       "      <th>funcionario_nome</th>\n",
       "      <th>funcionario_idade</th>\n",
       "      <th>funcionario_cpf</th>\n",
       "      <th>cargo_id</th>\n",
       "      <th>setor_id</th>\n",
       "    </tr>\n",
       "  </thead>\n",
       "  <tbody>\n",
       "    <tr>\n",
       "      <th>0</th>\n",
       "      <td>Daniel Batista</td>\n",
       "      <td>36</td>\n",
       "      <td>27176353356</td>\n",
       "      <td>1</td>\n",
       "      <td>2</td>\n",
       "    </tr>\n",
       "    <tr>\n",
       "      <th>1</th>\n",
       "      <td>Bianca Garcia</td>\n",
       "      <td>39</td>\n",
       "      <td>21461638191</td>\n",
       "      <td>3</td>\n",
       "      <td>1</td>\n",
       "    </tr>\n",
       "    <tr>\n",
       "      <th>2</th>\n",
       "      <td>Guilherme Silva</td>\n",
       "      <td>45</td>\n",
       "      <td>54088099503</td>\n",
       "      <td>1</td>\n",
       "      <td>2</td>\n",
       "    </tr>\n",
       "    <tr>\n",
       "      <th>3</th>\n",
       "      <td>Leonardo Barros</td>\n",
       "      <td>23</td>\n",
       "      <td>3388954911</td>\n",
       "      <td>5</td>\n",
       "      <td>1</td>\n",
       "    </tr>\n",
       "    <tr>\n",
       "      <th>4</th>\n",
       "      <td>Daniel Barros</td>\n",
       "      <td>18</td>\n",
       "      <td>36195973218</td>\n",
       "      <td>3</td>\n",
       "      <td>1</td>\n",
       "    </tr>\n",
       "    <tr>\n",
       "      <th>...</th>\n",
       "      <td>...</td>\n",
       "      <td>...</td>\n",
       "      <td>...</td>\n",
       "      <td>...</td>\n",
       "      <td>...</td>\n",
       "    </tr>\n",
       "    <tr>\n",
       "      <th>995</th>\n",
       "      <td>Lauro Barros</td>\n",
       "      <td>18</td>\n",
       "      <td>9932295853</td>\n",
       "      <td>5</td>\n",
       "      <td>4</td>\n",
       "    </tr>\n",
       "    <tr>\n",
       "      <th>996</th>\n",
       "      <td>Pedro Barros</td>\n",
       "      <td>28</td>\n",
       "      <td>53378477712</td>\n",
       "      <td>1</td>\n",
       "      <td>1</td>\n",
       "    </tr>\n",
       "    <tr>\n",
       "      <th>997</th>\n",
       "      <td>Vitor Barros</td>\n",
       "      <td>44</td>\n",
       "      <td>81042723216</td>\n",
       "      <td>1</td>\n",
       "      <td>3</td>\n",
       "    </tr>\n",
       "    <tr>\n",
       "      <th>998</th>\n",
       "      <td>Jose Campos</td>\n",
       "      <td>28</td>\n",
       "      <td>80892194573</td>\n",
       "      <td>4</td>\n",
       "      <td>5</td>\n",
       "    </tr>\n",
       "    <tr>\n",
       "      <th>999</th>\n",
       "      <td>Vanessa Barcelos</td>\n",
       "      <td>49</td>\n",
       "      <td>38314359859</td>\n",
       "      <td>3</td>\n",
       "      <td>1</td>\n",
       "    </tr>\n",
       "  </tbody>\n",
       "</table>\n",
       "<p>1000 rows × 5 columns</p>\n",
       "</div>"
      ],
      "text/plain": [
       "     funcionario_nome  funcionario_idade  funcionario_cpf  cargo_id  setor_id\n",
       "0      Daniel Batista                 36      27176353356         1         2\n",
       "1       Bianca Garcia                 39      21461638191         3         1\n",
       "2     Guilherme Silva                 45      54088099503         1         2\n",
       "3     Leonardo Barros                 23       3388954911         5         1\n",
       "4       Daniel Barros                 18      36195973218         3         1\n",
       "..                ...                ...              ...       ...       ...\n",
       "995      Lauro Barros                 18       9932295853         5         4\n",
       "996      Pedro Barros                 28      53378477712         1         1\n",
       "997      Vitor Barros                 44      81042723216         1         3\n",
       "998       Jose Campos                 28      80892194573         4         5\n",
       "999  Vanessa Barcelos                 49      38314359859         3         1\n",
       "\n",
       "[1000 rows x 5 columns]"
      ]
     },
     "metadata": {},
     "output_type": "display_data"
    }
   ],
   "source": [
    "df_cargos = pd.read_csv('cargos.csv')\n",
    "df_setores = pd.read_csv('setores.csv')\n",
    "df_funcionarios = pd.read_csv('funcionarios.csv')\n",
    "\n",
    "display(df_cargos, df_setores, df_funcionarios)"
   ]
  },
  {
   "cell_type": "markdown",
   "metadata": {},
   "source": [
    "<!-- 1) Qual setor possui mais funcionários? -->"
   ]
  },
  {
   "cell_type": "markdown",
   "metadata": {},
   "source": [
    "<!-- 1) Qual setor possui mais funcionários? -->"
   ]
  },
  {
   "cell_type": "markdown",
   "metadata": {},
   "source": [
    "## 1) Qual setor possui mais funcionários?"
   ]
  },
  {
   "cell_type": "code",
   "execution_count": 3,
   "metadata": {},
   "outputs": [
    {
     "data": {
      "text/plain": [
       "'O setor que possui mais funcionários é o Compras com 214 funcionários'"
      ]
     },
     "metadata": {},
     "output_type": "display_data"
    }
   ],
   "source": [
    "join_funcionarios_setores = df_funcionarios.join(df_setores.set_index('setor_id'), on= 'setor_id')\n",
    "\n",
    "setor_mais_funcionarios = join_funcionarios_setores.groupby('setor_nome').count().reset_index()\n",
    "\n",
    "setor_mais_funcionarios = setor_mais_funcionarios.sort_values('setor_id', ascending=False).iloc[0]\n",
    "\n",
    "display(f'O setor que possui mais funcionários é o {setor_mais_funcionarios[\"setor_nome\"]} com {setor_mais_funcionarios[\"setor_id\"]} funcionários')\n"
   ]
  },
  {
   "cell_type": "markdown",
   "metadata": {},
   "source": [
    "<!-- 2) Qual o cargo que possui maior quantidade de funcionários? -->"
   ]
  },
  {
   "cell_type": "markdown",
   "metadata": {},
   "source": [
    "## 2) Qual o cargo que possui maior quantidade de funcionários?"
   ]
  },
  {
   "cell_type": "code",
   "execution_count": 4,
   "metadata": {},
   "outputs": [
    {
     "data": {
      "text/plain": [
       "'O cargo que possui mais funcionários é o Especialista com 420 funcionários'"
      ]
     },
     "metadata": {},
     "output_type": "display_data"
    }
   ],
   "source": [
    "join_funcionarios_cargos = df_funcionarios.join(df_cargos.set_index('cargo_id'), on= 'cargo_id')\n",
    "\n",
    "cargo_mais_funcionarios = join_funcionarios_cargos.groupby('cargo_nome').count().reset_index()\n",
    "\n",
    "cargo_mais_funcionarios = cargo_mais_funcionarios.sort_values('setor_id', ascending=False).iloc[0]\n",
    "\n",
    "cargo_mais_funcionarios\n",
    "\n",
    "display(f'O cargo que possui mais funcionários é o {cargo_mais_funcionarios[\"cargo_nome\"]} com {cargo_mais_funcionarios[\"setor_id\"]} funcionários')"
   ]
  },
  {
   "cell_type": "markdown",
   "metadata": {},
   "source": [
    "<!-- 3) Qual o valor total de folha de pagamento para funcionários do setor de compras? -->"
   ]
  },
  {
   "cell_type": "markdown",
   "metadata": {},
   "source": [
    "## 3) Qual o valor total de folha de pagamento para funcionários do setor de compras?"
   ]
  },
  {
   "cell_type": "code",
   "execution_count": 5,
   "metadata": {},
   "outputs": [
    {
     "data": {
      "text/plain": [
       "'O valor total da folha de pagamento do setor de compras é R$ 1017300'"
      ]
     },
     "metadata": {},
     "output_type": "display_data"
    }
   ],
   "source": [
    "valor_folha_compras = join_funcionarios_setores[join_funcionarios_setores['setor_nome'] == 'Compras']\n",
    "\n",
    "valor_folha_compras = valor_folha_compras.join(df_cargos.set_index('cargo_id'), on='cargo_id', how='right')\n",
    "\n",
    "valor_folha_compras = valor_folha_compras.sum()['cargo_salario']\n",
    "\n",
    "display(f'O valor total da folha de pagamento do setor de compras é R$ {valor_folha_compras}')"
   ]
  },
  {
   "cell_type": "markdown",
   "metadata": {},
   "source": [
    "<!-- 4) Qual é o funcionário mais velho do setor de marketing que possui o cargo de analista? -->"
   ]
  },
  {
   "cell_type": "markdown",
   "metadata": {},
   "source": [
    "## 4) Qual é o funcionário mais velho do setor de marketing que possui o cargo de analista?"
   ]
  },
  {
   "cell_type": "code",
   "execution_count": 6,
   "metadata": {},
   "outputs": [
    {
     "data": {
      "text/plain": [
       "'O funcionario mais velho do setor de Marketing, que é analista é: Alice Pereira, possui 60'"
      ]
     },
     "metadata": {},
     "output_type": "display_data"
    }
   ],
   "source": [
    "funcionario_analista_marketing_mais_velho = join_funcionarios_setores[join_funcionarios_setores['setor_nome'] == 'Marketing']\n",
    "\n",
    "funcionario_analista_marketing_mais_velho = funcionario_analista_marketing_mais_velho.join(df_cargos.set_index('cargo_id'), on='cargo_id', how='right')\n",
    "\n",
    "funcionario_analista_marketing_mais_velho = funcionario_analista_marketing_mais_velho[funcionario_analista_marketing_mais_velho['cargo_nome'] == 'Analista']\n",
    "\n",
    "funcionario_analista_marketing_mais_velho = funcionario_analista_marketing_mais_velho.sort_values(by = 'funcionario_idade', ascending= False).iloc[0]\n",
    "\n",
    "display(f'O funcionario mais velho do setor de Marketing, que é analista é: {funcionario_analista_marketing_mais_velho[\"funcionario_nome\"]}, possui {funcionario_analista_marketing_mais_velho[\"funcionario_idade\"]}')"
   ]
  },
  {
   "cell_type": "markdown",
   "metadata": {},
   "source": [
    "## 5) Qual o setor que tem mais funcionários de cargo de nível 1"
   ]
  },
  {
   "cell_type": "code",
   "execution_count": 7,
   "metadata": {},
   "outputs": [
    {
     "data": {
      "text/plain": [
       "'O setor que mais possui funcionários de cargo nível 1 é o Compras, com 128 funcionários'"
      ]
     },
     "metadata": {},
     "output_type": "display_data"
    }
   ],
   "source": [
    "setor_mais_funcionarios_nivel_1 = join_funcionarios_cargos[join_funcionarios_cargos['cargo_nivel'] == 1]\n",
    "\n",
    "setor_mais_funcionarios_nivel_1 = setor_mais_funcionarios_nivel_1.join(df_setores.set_index('setor_id'), on='setor_id', how='right')\n",
    "\n",
    "setor_mais_funcionarios_nivel_1 = setor_mais_funcionarios_nivel_1.groupby('setor_nome').count().reset_index()\n",
    "\n",
    "setor_mais_funcionarios_nivel_1 = setor_mais_funcionarios_nivel_1.sort_values('setor_id', ascending=False).iloc[0]\n",
    "\n",
    "display(f'O setor que mais possui funcionários de cargo nível 1 é o {setor_mais_funcionarios_nivel_1[\"setor_nome\"]}, com {setor_mais_funcionarios_nivel_1[\"setor_id\"]} funcionários')\n",
    "\n"
   ]
  },
  {
   "cell_type": "markdown",
   "metadata": {},
   "source": [
    "## 6) Qual o nome dos funcionários com maior salário no setor de desenvolvimento?\n"
   ]
  },
  {
   "cell_type": "code",
   "execution_count": 8,
   "metadata": {},
   "outputs": [
    {
     "data": {
      "text/plain": [
       "'Os funcionários do setor de desenvolvimento, com maior salario são:'"
      ]
     },
     "metadata": {},
     "output_type": "display_data"
    },
    {
     "data": {
      "text/plain": [
       "'Sandro Prado'"
      ]
     },
     "metadata": {},
     "output_type": "display_data"
    },
    {
     "data": {
      "text/plain": [
       "'Leonardo Andrade'"
      ]
     },
     "metadata": {},
     "output_type": "display_data"
    },
    {
     "data": {
      "text/plain": [
       "'Bianca Andrade'"
      ]
     },
     "metadata": {},
     "output_type": "display_data"
    },
    {
     "data": {
      "text/plain": [
       "'Alice Gomes'"
      ]
     },
     "metadata": {},
     "output_type": "display_data"
    },
    {
     "data": {
      "text/plain": [
       "'Lauro Prado'"
      ]
     },
     "metadata": {},
     "output_type": "display_data"
    },
    {
     "data": {
      "text/plain": [
       "'Guilherme Prado'"
      ]
     },
     "metadata": {},
     "output_type": "display_data"
    },
    {
     "data": {
      "text/plain": [
       "'Vanessa Barros'"
      ]
     },
     "metadata": {},
     "output_type": "display_data"
    },
    {
     "data": {
      "text/plain": [
       "'Vitor Freitas'"
      ]
     },
     "metadata": {},
     "output_type": "display_data"
    },
    {
     "data": {
      "text/plain": [
       "'Jose Batista'"
      ]
     },
     "metadata": {},
     "output_type": "display_data"
    },
    {
     "data": {
      "text/plain": [
       "'Vanessa Cardoso'"
      ]
     },
     "metadata": {},
     "output_type": "display_data"
    },
    {
     "data": {
      "text/plain": [
       "'Alice Andrade'"
      ]
     },
     "metadata": {},
     "output_type": "display_data"
    },
    {
     "data": {
      "text/plain": [
       "'Vanessa Garcia'"
      ]
     },
     "metadata": {},
     "output_type": "display_data"
    },
    {
     "data": {
      "text/plain": [
       "'Leonardo Pereira'"
      ]
     },
     "metadata": {},
     "output_type": "display_data"
    },
    {
     "data": {
      "text/plain": [
       "'Claudio Freitas'"
      ]
     },
     "metadata": {},
     "output_type": "display_data"
    },
    {
     "data": {
      "text/plain": [
       "'Leonardo Gomes'"
      ]
     },
     "metadata": {},
     "output_type": "display_data"
    },
    {
     "data": {
      "text/plain": [
       "'Lauro Campos'"
      ]
     },
     "metadata": {},
     "output_type": "display_data"
    },
    {
     "data": {
      "text/plain": [
       "'Guilherme Prado'"
      ]
     },
     "metadata": {},
     "output_type": "display_data"
    },
    {
     "data": {
      "text/plain": [
       "'Leonardo Cardoso'"
      ]
     },
     "metadata": {},
     "output_type": "display_data"
    },
    {
     "data": {
      "text/plain": [
       "'Leonardo Andrade'"
      ]
     },
     "metadata": {},
     "output_type": "display_data"
    },
    {
     "data": {
      "text/plain": [
       "'Vanessa Santos'"
      ]
     },
     "metadata": {},
     "output_type": "display_data"
    },
    {
     "data": {
      "text/plain": [
       "'Lauro Andrade'"
      ]
     },
     "metadata": {},
     "output_type": "display_data"
    },
    {
     "data": {
      "text/plain": [
       "'Maria Pereira'"
      ]
     },
     "metadata": {},
     "output_type": "display_data"
    },
    {
     "data": {
      "text/plain": [
       "'Bianca Pereira'"
      ]
     },
     "metadata": {},
     "output_type": "display_data"
    },
    {
     "data": {
      "text/plain": [
       "'Bianca Barros'"
      ]
     },
     "metadata": {},
     "output_type": "display_data"
    },
    {
     "data": {
      "text/plain": [
       "'Katia Santos'"
      ]
     },
     "metadata": {},
     "output_type": "display_data"
    },
    {
     "data": {
      "text/plain": [
       "'Leonardo Barros'"
      ]
     },
     "metadata": {},
     "output_type": "display_data"
    },
    {
     "data": {
      "text/plain": [
       "'Pedro Andrade'"
      ]
     },
     "metadata": {},
     "output_type": "display_data"
    },
    {
     "data": {
      "text/plain": [
       "'Leonardo Cardoso'"
      ]
     },
     "metadata": {},
     "output_type": "display_data"
    },
    {
     "data": {
      "text/plain": [
       "'Sandro Andrade'"
      ]
     },
     "metadata": {},
     "output_type": "display_data"
    },
    {
     "data": {
      "text/plain": [
       "'Leonardo Freitas'"
      ]
     },
     "metadata": {},
     "output_type": "display_data"
    },
    {
     "data": {
      "text/plain": [
       "'Daniel Santos'"
      ]
     },
     "metadata": {},
     "output_type": "display_data"
    },
    {
     "data": {
      "text/plain": [
       "'Vitor Gomes'"
      ]
     },
     "metadata": {},
     "output_type": "display_data"
    },
    {
     "data": {
      "text/plain": [
       "'Lauro Barcelos'"
      ]
     },
     "metadata": {},
     "output_type": "display_data"
    },
    {
     "data": {
      "text/plain": [
       "'PedroAna Santos'"
      ]
     },
     "metadata": {},
     "output_type": "display_data"
    },
    {
     "data": {
      "text/plain": [
       "'Lauro Garcia'"
      ]
     },
     "metadata": {},
     "output_type": "display_data"
    },
    {
     "data": {
      "text/plain": [
       "'Claudio Andrade'"
      ]
     },
     "metadata": {},
     "output_type": "display_data"
    },
    {
     "data": {
      "text/plain": [
       "'Katia Freitas'"
      ]
     },
     "metadata": {},
     "output_type": "display_data"
    },
    {
     "data": {
      "text/plain": [
       "'Katia Batista'"
      ]
     },
     "metadata": {},
     "output_type": "display_data"
    },
    {
     "data": {
      "text/plain": [
       "'Bianca Gomes'"
      ]
     },
     "metadata": {},
     "output_type": "display_data"
    },
    {
     "data": {
      "text/plain": [
       "'Alice Silva'"
      ]
     },
     "metadata": {},
     "output_type": "display_data"
    },
    {
     "data": {
      "text/plain": [
       "'Vitor Silva'"
      ]
     },
     "metadata": {},
     "output_type": "display_data"
    },
    {
     "data": {
      "text/plain": [
       "'Pedro Garcia'"
      ]
     },
     "metadata": {},
     "output_type": "display_data"
    },
    {
     "data": {
      "text/plain": [
       "'Leonardo Prado'"
      ]
     },
     "metadata": {},
     "output_type": "display_data"
    },
    {
     "data": {
      "text/plain": [
       "'Alice Barcelos'"
      ]
     },
     "metadata": {},
     "output_type": "display_data"
    },
    {
     "data": {
      "text/plain": [
       "'Pedro Santos'"
      ]
     },
     "metadata": {},
     "output_type": "display_data"
    },
    {
     "data": {
      "text/plain": [
       "'PedroAna Freitas'"
      ]
     },
     "metadata": {},
     "output_type": "display_data"
    },
    {
     "data": {
      "text/plain": [
       "'Guilherme Freitas'"
      ]
     },
     "metadata": {},
     "output_type": "display_data"
    },
    {
     "data": {
      "text/plain": [
       "'Vitor Gomes'"
      ]
     },
     "metadata": {},
     "output_type": "display_data"
    },
    {
     "data": {
      "text/plain": [
       "'Claudia Pereira'"
      ]
     },
     "metadata": {},
     "output_type": "display_data"
    },
    {
     "data": {
      "text/plain": [
       "'Alice Garcia'"
      ]
     },
     "metadata": {},
     "output_type": "display_data"
    },
    {
     "data": {
      "text/plain": [
       "'PedroAna Freitas'"
      ]
     },
     "metadata": {},
     "output_type": "display_data"
    },
    {
     "data": {
      "text/plain": [
       "'Jose Batista'"
      ]
     },
     "metadata": {},
     "output_type": "display_data"
    },
    {
     "data": {
      "text/plain": [
       "'Jose Batista'"
      ]
     },
     "metadata": {},
     "output_type": "display_data"
    },
    {
     "data": {
      "text/plain": [
       "'Lauro Barros'"
      ]
     },
     "metadata": {},
     "output_type": "display_data"
    },
    {
     "data": {
      "text/plain": [
       "'Katia Barcelos'"
      ]
     },
     "metadata": {},
     "output_type": "display_data"
    },
    {
     "data": {
      "text/plain": [
       "'Sandro Barcelos'"
      ]
     },
     "metadata": {},
     "output_type": "display_data"
    },
    {
     "data": {
      "text/plain": [
       "'Bianca Silva'"
      ]
     },
     "metadata": {},
     "output_type": "display_data"
    },
    {
     "data": {
      "text/plain": [
       "'Vanessa Freitas'"
      ]
     },
     "metadata": {},
     "output_type": "display_data"
    },
    {
     "data": {
      "text/plain": [
       "'Daniel Freitas'"
      ]
     },
     "metadata": {},
     "output_type": "display_data"
    },
    {
     "data": {
      "text/plain": [
       "'Daniel Pereira'"
      ]
     },
     "metadata": {},
     "output_type": "display_data"
    },
    {
     "data": {
      "text/plain": [
       "'Maria Pereira'"
      ]
     },
     "metadata": {},
     "output_type": "display_data"
    },
    {
     "data": {
      "text/plain": [
       "'Guilherme Gomes'"
      ]
     },
     "metadata": {},
     "output_type": "display_data"
    },
    {
     "data": {
      "text/plain": [
       "'Vitor Barcelos'"
      ]
     },
     "metadata": {},
     "output_type": "display_data"
    },
    {
     "data": {
      "text/plain": [
       "'Leonardo Garcia'"
      ]
     },
     "metadata": {},
     "output_type": "display_data"
    },
    {
     "data": {
      "text/plain": [
       "'Daniel Prado'"
      ]
     },
     "metadata": {},
     "output_type": "display_data"
    },
    {
     "data": {
      "text/plain": [
       "'Bianca Prado'"
      ]
     },
     "metadata": {},
     "output_type": "display_data"
    },
    {
     "data": {
      "text/plain": [
       "'Katia Silva'"
      ]
     },
     "metadata": {},
     "output_type": "display_data"
    },
    {
     "data": {
      "text/plain": [
       "'Pedro Silva'"
      ]
     },
     "metadata": {},
     "output_type": "display_data"
    },
    {
     "data": {
      "text/plain": [
       "'Vanessa Campos'"
      ]
     },
     "metadata": {},
     "output_type": "display_data"
    },
    {
     "data": {
      "text/plain": [
       "'Vanessa Prado'"
      ]
     },
     "metadata": {},
     "output_type": "display_data"
    },
    {
     "data": {
      "text/plain": [
       "'Daniel Silva'"
      ]
     },
     "metadata": {},
     "output_type": "display_data"
    },
    {
     "data": {
      "text/plain": [
       "'Maria Garcia'"
      ]
     },
     "metadata": {},
     "output_type": "display_data"
    },
    {
     "data": {
      "text/plain": [
       "'Jose Barros'"
      ]
     },
     "metadata": {},
     "output_type": "display_data"
    },
    {
     "data": {
      "text/plain": [
       "'Guilherme Andrade'"
      ]
     },
     "metadata": {},
     "output_type": "display_data"
    },
    {
     "data": {
      "text/plain": [
       "'Pedro Campos'"
      ]
     },
     "metadata": {},
     "output_type": "display_data"
    },
    {
     "data": {
      "text/plain": [
       "'Maria Cardoso'"
      ]
     },
     "metadata": {},
     "output_type": "display_data"
    },
    {
     "data": {
      "text/plain": [
       "'Bianca Prado'"
      ]
     },
     "metadata": {},
     "output_type": "display_data"
    },
    {
     "data": {
      "text/plain": [
       "'PedroAna Barros'"
      ]
     },
     "metadata": {},
     "output_type": "display_data"
    },
    {
     "data": {
      "text/plain": [
       "'Alice Batista'"
      ]
     },
     "metadata": {},
     "output_type": "display_data"
    },
    {
     "data": {
      "text/plain": [
       "'Lauro Barros'"
      ]
     },
     "metadata": {},
     "output_type": "display_data"
    }
   ],
   "source": [
    "func_desenvol_maior_salario = join_funcionarios_setores[join_funcionarios_setores['setor_nome'] == 'Desenvolvimento']\n",
    "\n",
    "func_desenvol_maior_salario = func_desenvol_maior_salario.join(df_cargos.set_index('cargo_id'), on='cargo_id', how='right')\n",
    "\n",
    "maior_salario = func_desenvol_maior_salario.max()['cargo_salario']                                                  \n",
    "\n",
    "func_desenvol_maior_salario = func_desenvol_maior_salario[func_desenvol_maior_salario['cargo_salario'] == maior_salario]\n",
    "\n",
    "display('Os funcionários do setor de desenvolvimento, com maior salario são:')\n",
    "for i in func_desenvol_maior_salario['funcionario_nome']:\n",
    "    display(i)"
   ]
  },
  {
   "cell_type": "markdown",
   "metadata": {},
   "source": [
    "<!-- 5) Qual o setor que tem mais funcionários de cargo de nível 1 -->"
   ]
  },
  {
   "cell_type": "markdown",
   "metadata": {},
   "source": [
    "## 7) Qual é o funcionário mais novo no setor de compras e qual o mais velho?"
   ]
  },
  {
   "cell_type": "code",
   "execution_count": 99,
   "metadata": {},
   "outputs": [
    {
     "name": "stdout",
     "output_type": "stream",
     "text": [
      "O funcionário mais novo do setor de compras é Lauro Barros e possui 18 anos.\n",
      "O funcionário mais velho do setor de compras é Vitor Campos e possui 60 anos\n"
     ]
    }
   ],
   "source": [
    "func_young_and_old_shopping =  join_funcionarios_setores[join_funcionarios_setores['setor_nome'] == 'Compras']\n",
    "\n",
    "func_young_and_old_shopping.reset_index(inplace=True, drop=True)\n",
    "\n",
    "index_func_young_shopping = func_young_and_old_shopping['funcionario_idade'].idxmin()\n",
    "\n",
    "index_func_old_shopping = func_young_and_old_shopping['funcionario_idade'].idxmax()\n",
    "\n",
    "func_young_shopping = func_young_and_old_shopping.iloc[index_func_young_shopping]\n",
    "\n",
    "func_old_shopping = func_young_and_old_shopping.iloc[index_func_old_shopping]\n",
    "\n",
    "print(f'O funcionário mais novo do setor de compras é {func_young_shopping[\"funcionario_nome\"]} e possui {func_young_shopping[\"funcionario_idade\"]} anos.\\n'\n",
    " f'O funcionário mais velho do setor de compras é {func_old_shopping[\"funcionario_nome\"]} e possui {func_old_shopping[\"funcionario_idade\"]} anos')"
   ]
  },
  {
   "cell_type": "markdown",
   "metadata": {},
   "source": [
    "<!-- 6) Qual o nome dos funcionários com maior salário no setor de produção? -->"
   ]
  }
 ],
 "metadata": {
  "kernelspec": {
   "display_name": "Python 3.10.4 64-bit",
   "language": "python",
   "name": "python3"
  },
  "language_info": {
   "codemirror_mode": {
    "name": "ipython",
    "version": 3
   },
   "file_extension": ".py",
   "mimetype": "text/x-python",
   "name": "python",
   "nbconvert_exporter": "python",
   "pygments_lexer": "ipython3",
   "version": "3.10.4"
  },
  "orig_nbformat": 4,
  "vscode": {
   "interpreter": {
    "hash": "31f2aee4e71d21fbe5cf8b01ff0e069b9275f58929596ceb00d14d90e3e16cd6"
   }
  }
 },
 "nbformat": 4,
 "nbformat_minor": 2
}
