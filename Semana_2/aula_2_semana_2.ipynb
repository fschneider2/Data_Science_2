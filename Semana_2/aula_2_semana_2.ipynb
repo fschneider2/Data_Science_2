{
 "cells": [
  {
   "cell_type": "markdown",
   "metadata": {},
   "source": [
    "### O dataset clientes.csv possui dados sobre clientes de uma determinada loja.\n",
    "### Porém esse dataset possui alguns problemas e deve ser tratado antes de quaisquer processamentos. Você deve:\n",
    "\n",
    "### 1) Realizar a limpeza desses dados, sempre analisando qual a melhor decisão a ser tomada em cada situação de acordo com seu julgamento.\n",
    "\n",
    "### 2) Faça anotações do porquê de cada ação tomada para tratar a base de dados, explicando a decisão.\n",
    "\n",
    "### 3) Procure explicar quais as vantagens e/ou desvantagens de suas ações sobre o dataset."
   ]
  },
  {
   "cell_type": "code",
   "execution_count": 306,
   "metadata": {},
   "outputs": [],
   "source": [
    "import pandas as pd\n",
    "import numpy as np\n"
   ]
  },
  {
   "cell_type": "code",
   "execution_count": 307,
   "metadata": {},
   "outputs": [],
   "source": [
    "clientes = pd.read_csv('clientes.csv')"
   ]
  },
  {
   "cell_type": "code",
   "execution_count": 308,
   "metadata": {},
   "outputs": [
    {
     "data": {
      "text/html": [
       "<div>\n",
       "<style scoped>\n",
       "    .dataframe tbody tr th:only-of-type {\n",
       "        vertical-align: middle;\n",
       "    }\n",
       "\n",
       "    .dataframe tbody tr th {\n",
       "        vertical-align: top;\n",
       "    }\n",
       "\n",
       "    .dataframe thead th {\n",
       "        text-align: right;\n",
       "    }\n",
       "</style>\n",
       "<table border=\"1\" class=\"dataframe\">\n",
       "  <thead>\n",
       "    <tr style=\"text-align: right;\">\n",
       "      <th></th>\n",
       "      <th>cliente_nome_completo</th>\n",
       "      <th>cliente_cpf</th>\n",
       "      <th>cliente_idade</th>\n",
       "      <th>cliente_frequencia_compra</th>\n",
       "      <th>cliente_nome</th>\n",
       "      <th>cliente_sobrenome</th>\n",
       "    </tr>\n",
       "  </thead>\n",
       "  <tbody>\n",
       "    <tr>\n",
       "      <th>0</th>\n",
       "      <td>Fernando Andrade</td>\n",
       "      <td>2.946012e+10</td>\n",
       "      <td>51</td>\n",
       "      <td>26</td>\n",
       "      <td>Fernando</td>\n",
       "      <td>Andrade</td>\n",
       "    </tr>\n",
       "    <tr>\n",
       "      <th>1</th>\n",
       "      <td>Vanessa Andrade</td>\n",
       "      <td>7.428947e+10</td>\n",
       "      <td>47</td>\n",
       "      <td>6</td>\n",
       "      <td>Vanessa</td>\n",
       "      <td>Andrade</td>\n",
       "    </tr>\n",
       "    <tr>\n",
       "      <th>2</th>\n",
       "      <td>Maria Barcelos</td>\n",
       "      <td>9.301411e+10</td>\n",
       "      <td>23 anos</td>\n",
       "      <td>91</td>\n",
       "      <td>Maria</td>\n",
       "      <td>Barcelos</td>\n",
       "    </tr>\n",
       "    <tr>\n",
       "      <th>3</th>\n",
       "      <td>Vanessa Carvalho</td>\n",
       "      <td>2.482485e+10</td>\n",
       "      <td>30</td>\n",
       "      <td>54</td>\n",
       "      <td>Vanessa</td>\n",
       "      <td>Carvalho</td>\n",
       "    </tr>\n",
       "    <tr>\n",
       "      <th>4</th>\n",
       "      <td>Ana Rodrigues</td>\n",
       "      <td>5.314509e+10</td>\n",
       "      <td>44</td>\n",
       "      <td>81</td>\n",
       "      <td>Ana</td>\n",
       "      <td>Rodrigues</td>\n",
       "    </tr>\n",
       "    <tr>\n",
       "      <th>...</th>\n",
       "      <td>...</td>\n",
       "      <td>...</td>\n",
       "      <td>...</td>\n",
       "      <td>...</td>\n",
       "      <td>...</td>\n",
       "      <td>...</td>\n",
       "    </tr>\n",
       "    <tr>\n",
       "      <th>997</th>\n",
       "      <td>Vanessa Nunes</td>\n",
       "      <td>7.988690e+10</td>\n",
       "      <td>43</td>\n",
       "      <td>89</td>\n",
       "      <td>Vanessa</td>\n",
       "      <td>Nunes</td>\n",
       "    </tr>\n",
       "    <tr>\n",
       "      <th>998</th>\n",
       "      <td>Claudia Fernandes</td>\n",
       "      <td>6.854702e+10</td>\n",
       "      <td>58</td>\n",
       "      <td>11</td>\n",
       "      <td>Claudia</td>\n",
       "      <td>Fernandes</td>\n",
       "    </tr>\n",
       "    <tr>\n",
       "      <th>999</th>\n",
       "      <td>Valter Fernandes</td>\n",
       "      <td>2.490824e+10</td>\n",
       "      <td>51</td>\n",
       "      <td>94</td>\n",
       "      <td>Valter</td>\n",
       "      <td>Fernandes</td>\n",
       "    </tr>\n",
       "    <tr>\n",
       "      <th>1000</th>\n",
       "      <td>Leonardo Melo</td>\n",
       "      <td>8.286605e+10</td>\n",
       "      <td>20</td>\n",
       "      <td>10</td>\n",
       "      <td>Leonardo</td>\n",
       "      <td>Melo</td>\n",
       "    </tr>\n",
       "    <tr>\n",
       "      <th>1001</th>\n",
       "      <td>Ana Santos</td>\n",
       "      <td>8.457643e+10</td>\n",
       "      <td>51</td>\n",
       "      <td>7</td>\n",
       "      <td>Ana</td>\n",
       "      <td>Santos</td>\n",
       "    </tr>\n",
       "  </tbody>\n",
       "</table>\n",
       "<p>1002 rows × 6 columns</p>\n",
       "</div>"
      ],
      "text/plain": [
       "     cliente_nome_completo   cliente_cpf cliente_idade  \\\n",
       "0         Fernando Andrade  2.946012e+10            51   \n",
       "1          Vanessa Andrade  7.428947e+10            47   \n",
       "2           Maria Barcelos  9.301411e+10       23 anos   \n",
       "3         Vanessa Carvalho  2.482485e+10            30   \n",
       "4            Ana Rodrigues  5.314509e+10            44   \n",
       "...                    ...           ...           ...   \n",
       "997          Vanessa Nunes  7.988690e+10            43   \n",
       "998      Claudia Fernandes  6.854702e+10            58   \n",
       "999       Valter Fernandes  2.490824e+10            51   \n",
       "1000         Leonardo Melo  8.286605e+10            20   \n",
       "1001            Ana Santos  8.457643e+10            51   \n",
       "\n",
       "      cliente_frequencia_compra cliente_nome cliente_sobrenome  \n",
       "0                            26     Fernando           Andrade  \n",
       "1                             6      Vanessa           Andrade  \n",
       "2                            91        Maria          Barcelos  \n",
       "3                            54      Vanessa          Carvalho  \n",
       "4                            81          Ana         Rodrigues  \n",
       "...                         ...          ...               ...  \n",
       "997                          89      Vanessa             Nunes  \n",
       "998                          11      Claudia         Fernandes  \n",
       "999                          94       Valter         Fernandes  \n",
       "1000                         10     Leonardo              Melo  \n",
       "1001                          7          Ana            Santos  \n",
       "\n",
       "[1002 rows x 6 columns]"
      ]
     },
     "execution_count": 308,
     "metadata": {},
     "output_type": "execute_result"
    }
   ],
   "source": [
    "clientes"
   ]
  },
  {
   "cell_type": "code",
   "execution_count": 309,
   "metadata": {},
   "outputs": [
    {
     "name": "stdout",
     "output_type": "stream",
     "text": [
      "<class 'pandas.core.frame.DataFrame'>\n",
      "RangeIndex: 1002 entries, 0 to 1001\n",
      "Data columns (total 6 columns):\n",
      " #   Column                     Non-Null Count  Dtype  \n",
      "---  ------                     --------------  -----  \n",
      " 0   cliente_nome_completo      1002 non-null   object \n",
      " 1   cliente_cpf                1000 non-null   float64\n",
      " 2   cliente_idade              1002 non-null   object \n",
      " 3   cliente_frequencia_compra  1002 non-null   int64  \n",
      " 4   cliente_nome               1002 non-null   object \n",
      " 5   cliente_sobrenome          1001 non-null   object \n",
      "dtypes: float64(1), int64(1), object(4)\n",
      "memory usage: 47.1+ KB\n"
     ]
    },
    {
     "data": {
      "text/plain": [
       "None"
      ]
     },
     "metadata": {},
     "output_type": "display_data"
    },
    {
     "data": {
      "text/html": [
       "<div>\n",
       "<style scoped>\n",
       "    .dataframe tbody tr th:only-of-type {\n",
       "        vertical-align: middle;\n",
       "    }\n",
       "\n",
       "    .dataframe tbody tr th {\n",
       "        vertical-align: top;\n",
       "    }\n",
       "\n",
       "    .dataframe thead th {\n",
       "        text-align: right;\n",
       "    }\n",
       "</style>\n",
       "<table border=\"1\" class=\"dataframe\">\n",
       "  <thead>\n",
       "    <tr style=\"text-align: right;\">\n",
       "      <th></th>\n",
       "      <th>cliente_cpf</th>\n",
       "      <th>cliente_frequencia_compra</th>\n",
       "    </tr>\n",
       "  </thead>\n",
       "  <tbody>\n",
       "    <tr>\n",
       "      <th>count</th>\n",
       "      <td>1.000000e+03</td>\n",
       "      <td>1002.000000</td>\n",
       "    </tr>\n",
       "    <tr>\n",
       "      <th>mean</th>\n",
       "      <td>4.971137e+10</td>\n",
       "      <td>49.941118</td>\n",
       "    </tr>\n",
       "    <tr>\n",
       "      <th>std</th>\n",
       "      <td>2.874325e+10</td>\n",
       "      <td>29.426274</td>\n",
       "    </tr>\n",
       "    <tr>\n",
       "      <th>min</th>\n",
       "      <td>2.277302e+08</td>\n",
       "      <td>-5.000000</td>\n",
       "    </tr>\n",
       "    <tr>\n",
       "      <th>25%</th>\n",
       "      <td>2.488739e+10</td>\n",
       "      <td>24.000000</td>\n",
       "    </tr>\n",
       "    <tr>\n",
       "      <th>50%</th>\n",
       "      <td>4.841568e+10</td>\n",
       "      <td>50.000000</td>\n",
       "    </tr>\n",
       "    <tr>\n",
       "      <th>75%</th>\n",
       "      <td>7.459796e+10</td>\n",
       "      <td>75.000000</td>\n",
       "    </tr>\n",
       "    <tr>\n",
       "      <th>max</th>\n",
       "      <td>9.988003e+10</td>\n",
       "      <td>150.000000</td>\n",
       "    </tr>\n",
       "  </tbody>\n",
       "</table>\n",
       "</div>"
      ],
      "text/plain": [
       "        cliente_cpf  cliente_frequencia_compra\n",
       "count  1.000000e+03                1002.000000\n",
       "mean   4.971137e+10                  49.941118\n",
       "std    2.874325e+10                  29.426274\n",
       "min    2.277302e+08                  -5.000000\n",
       "25%    2.488739e+10                  24.000000\n",
       "50%    4.841568e+10                  50.000000\n",
       "75%    7.459796e+10                  75.000000\n",
       "max    9.988003e+10                 150.000000"
      ]
     },
     "metadata": {},
     "output_type": "display_data"
    }
   ],
   "source": [
    "display(clientes.info())\n",
    "\n",
    "display(clientes.describe())"
   ]
  },
  {
   "cell_type": "markdown",
   "metadata": {},
   "source": [
    "### Identifiquei os erros:\n",
    "\n",
    "### Coluna cliente_cpf pode estar com dados incorretos, entendo que o melhor é int.\n",
    "### Coluna cliente_idade possui str junto com int, entendo que o correto é int.\n",
    "### Colunas cliente_nome e cliente_sobrenome são desnecessarias, entendo ser desnecessarias, e, mesmo que úteis, posso facilmente cria-las para uma consulta futura, vou dropar.\n",
    "### Existem valor negativos na coluna Cliente_frenquencia_compra, aparenta ser um outlier "
   ]
  },
  {
   "cell_type": "code",
   "execution_count": 310,
   "metadata": {},
   "outputs": [],
   "source": [
    "clientes.drop(['cliente_nome','cliente_sobrenome'],axis = 1, inplace= True)"
   ]
  },
  {
   "cell_type": "code",
   "execution_count": 311,
   "metadata": {},
   "outputs": [
    {
     "name": "stdout",
     "output_type": "stream",
     "text": [
      "<class 'pandas.core.frame.DataFrame'>\n",
      "RangeIndex: 1002 entries, 0 to 1001\n",
      "Data columns (total 4 columns):\n",
      " #   Column                     Non-Null Count  Dtype  \n",
      "---  ------                     --------------  -----  \n",
      " 0   cliente_nome_completo      1002 non-null   object \n",
      " 1   cliente_cpf                1000 non-null   float64\n",
      " 2   cliente_idade              1002 non-null   object \n",
      " 3   cliente_frequencia_compra  1002 non-null   int64  \n",
      "dtypes: float64(1), int64(1), object(2)\n",
      "memory usage: 31.4+ KB\n"
     ]
    },
    {
     "data": {
      "text/plain": [
       "None"
      ]
     },
     "metadata": {},
     "output_type": "display_data"
    }
   ],
   "source": [
    "display(clientes.info())\n",
    " ## Resultado do drop, onde se reduziu quase 17% do tamanho do DF "
   ]
  },
  {
   "cell_type": "markdown",
   "metadata": {},
   "source": [
    "### Analise de duplicatas e após, a exclusão delas. "
   ]
  },
  {
   "cell_type": "code",
   "execution_count": 312,
   "metadata": {},
   "outputs": [],
   "source": [
    "clientes.drop_duplicates(keep='first', inplace=True) "
   ]
  },
  {
   "cell_type": "code",
   "execution_count": 313,
   "metadata": {},
   "outputs": [
    {
     "name": "stdout",
     "output_type": "stream",
     "text": [
      "<class 'pandas.core.frame.DataFrame'>\n",
      "Int64Index: 1000 entries, 0 to 1001\n",
      "Data columns (total 4 columns):\n",
      " #   Column                     Non-Null Count  Dtype  \n",
      "---  ------                     --------------  -----  \n",
      " 0   cliente_nome_completo      1000 non-null   object \n",
      " 1   cliente_cpf                998 non-null    float64\n",
      " 2   cliente_idade              1000 non-null   object \n",
      " 3   cliente_frequencia_compra  1000 non-null   int64  \n",
      "dtypes: float64(1), int64(1), object(2)\n",
      "memory usage: 39.1+ KB\n"
     ]
    },
    {
     "data": {
      "text/plain": [
       "None"
      ]
     },
     "metadata": {},
     "output_type": "display_data"
    }
   ],
   "source": [
    "display(clientes.info())\n",
    "\n",
    "## CSV não possuia arquivos duplicados "
   ]
  },
  {
   "cell_type": "markdown",
   "metadata": {},
   "source": [
    "### Analise e preenchimento dos dados faltantes da coluna cliente_cpf, conversão em int e remoção dos pontos que separam as casas decimais."
   ]
  },
  {
   "cell_type": "code",
   "execution_count": 314,
   "metadata": {},
   "outputs": [],
   "source": [
    "clientes['cliente_cpf'].fillna(00000000000, inplace= True) \n",
    "## para os campos vazios, adicionei a informação de 11 zeros, para corresponder a quantidade de digitos de um cpf,\n",
    "##  não vejo vantagens, foi por opção, entendo que o correto seria localizar o verdadeiro CPF. Existe a desvantagem de termos 2 CPFs iguais para clientes diferentes, que podem inclusive ter o mesmo nome."
   ]
  },
  {
   "cell_type": "code",
   "execution_count": 315,
   "metadata": {},
   "outputs": [
    {
     "name": "stdout",
     "output_type": "stream",
     "text": [
      "int64\n"
     ]
    }
   ],
   "source": [
    "clientes['cliente_cpf'] = clientes['cliente_cpf'].astype(np.int64) ## transformei a coluna em int, dessa forma a informação ficara expressa de forma correta \n",
    "\n",
    "print(clientes['cliente_cpf'].dtype)"
   ]
  },
  {
   "cell_type": "markdown",
   "metadata": {},
   "source": [
    "### Analise da coluna cliente_idade, exclusão do str e alteração para int"
   ]
  },
  {
   "cell_type": "code",
   "execution_count": 316,
   "metadata": {},
   "outputs": [],
   "source": [
    "clientes['cliente_idade'] =  clientes['cliente_idade'].str.replace('anos', '') ## alterei a coluna cliente_idade, apagando os str, ficando so numeros\n",
    "\n",
    "clientes['cliente_idade'] = clientes['cliente_idade'].astype(np.int16) \n",
    "## alterei o tipo de dado para int16, pois entendo que terei uma redução de volume de dados, \n",
    "## nenhum dado exigira mais espaço que isso. O tempo de processamento será menor que em str, e os dados estão uniformes"
   ]
  },
  {
   "cell_type": "markdown",
   "metadata": {},
   "source": [
    "### Retirando valores negativos da frenquencia de compras"
   ]
  },
  {
   "cell_type": "code",
   "execution_count": 317,
   "metadata": {},
   "outputs": [],
   "source": [
    "a = clientes.query('cliente_frequencia_compra < 0')\n",
    "\n",
    "# para poder visualizar a distribuição dos valores da coluna cliente_frequencia_compra, identificando onde esta o valor negativo,\n",
    "\n",
    "# como não sei o que essa informação quer dizer, vou apenas excluir a informação negativa, pois a positiva que esta fora da média pode ser útil para uma analise, e a negativa não me parece correta. \n",
    "\n",
    "clientes.drop(a.index, axis= 0, inplace=True)\n",
    "\n",
    "clientes['cliente_frequencia_compra'] = clientes['cliente_frequencia_compra'].astype(np.int16) # também alterei o campo para int16, sendo que nenhuma informação precisa de mais espaço que isso, \n",
    "# assim tive uma redução de 15% no volume do arquivo"
   ]
  },
  {
   "cell_type": "code",
   "execution_count": 318,
   "metadata": {},
   "outputs": [
    {
     "name": "stdout",
     "output_type": "stream",
     "text": [
      "<class 'pandas.core.frame.DataFrame'>\n",
      "Int64Index: 999 entries, 0 to 1001\n",
      "Data columns (total 4 columns):\n",
      " #   Column                     Non-Null Count  Dtype \n",
      "---  ------                     --------------  ----- \n",
      " 0   cliente_nome_completo      999 non-null    object\n",
      " 1   cliente_cpf                999 non-null    int64 \n",
      " 2   cliente_idade              999 non-null    int16 \n",
      " 3   cliente_frequencia_compra  999 non-null    int16 \n",
      "dtypes: int16(2), int64(1), object(1)\n",
      "memory usage: 27.3+ KB\n"
     ]
    },
    {
     "data": {
      "text/plain": [
       "None"
      ]
     },
     "metadata": {},
     "output_type": "display_data"
    },
    {
     "data": {
      "text/html": [
       "<div>\n",
       "<style scoped>\n",
       "    .dataframe tbody tr th:only-of-type {\n",
       "        vertical-align: middle;\n",
       "    }\n",
       "\n",
       "    .dataframe tbody tr th {\n",
       "        vertical-align: top;\n",
       "    }\n",
       "\n",
       "    .dataframe thead th {\n",
       "        text-align: right;\n",
       "    }\n",
       "</style>\n",
       "<table border=\"1\" class=\"dataframe\">\n",
       "  <thead>\n",
       "    <tr style=\"text-align: right;\">\n",
       "      <th></th>\n",
       "      <th>cliente_cpf</th>\n",
       "      <th>cliente_idade</th>\n",
       "      <th>cliente_frequencia_compra</th>\n",
       "    </tr>\n",
       "  </thead>\n",
       "  <tbody>\n",
       "    <tr>\n",
       "      <th>count</th>\n",
       "      <td>9.990000e+02</td>\n",
       "      <td>999.000000</td>\n",
       "      <td>999.000000</td>\n",
       "    </tr>\n",
       "    <tr>\n",
       "      <th>mean</th>\n",
       "      <td>4.963107e+10</td>\n",
       "      <td>39.201201</td>\n",
       "      <td>49.980981</td>\n",
       "    </tr>\n",
       "    <tr>\n",
       "      <th>std</th>\n",
       "      <td>2.878183e+10</td>\n",
       "      <td>12.129832</td>\n",
       "      <td>29.378885</td>\n",
       "    </tr>\n",
       "    <tr>\n",
       "      <th>min</th>\n",
       "      <td>0.000000e+00</td>\n",
       "      <td>18.000000</td>\n",
       "      <td>0.000000</td>\n",
       "    </tr>\n",
       "    <tr>\n",
       "      <th>25%</th>\n",
       "      <td>2.482473e+10</td>\n",
       "      <td>29.000000</td>\n",
       "      <td>24.000000</td>\n",
       "    </tr>\n",
       "    <tr>\n",
       "      <th>50%</th>\n",
       "      <td>4.836878e+10</td>\n",
       "      <td>39.000000</td>\n",
       "      <td>50.000000</td>\n",
       "    </tr>\n",
       "    <tr>\n",
       "      <th>75%</th>\n",
       "      <td>7.443706e+10</td>\n",
       "      <td>50.000000</td>\n",
       "      <td>75.000000</td>\n",
       "    </tr>\n",
       "    <tr>\n",
       "      <th>max</th>\n",
       "      <td>9.988003e+10</td>\n",
       "      <td>60.000000</td>\n",
       "      <td>150.000000</td>\n",
       "    </tr>\n",
       "  </tbody>\n",
       "</table>\n",
       "</div>"
      ],
      "text/plain": [
       "        cliente_cpf  cliente_idade  cliente_frequencia_compra\n",
       "count  9.990000e+02     999.000000                 999.000000\n",
       "mean   4.963107e+10      39.201201                  49.980981\n",
       "std    2.878183e+10      12.129832                  29.378885\n",
       "min    0.000000e+00      18.000000                   0.000000\n",
       "25%    2.482473e+10      29.000000                  24.000000\n",
       "50%    4.836878e+10      39.000000                  50.000000\n",
       "75%    7.443706e+10      50.000000                  75.000000\n",
       "max    9.988003e+10      60.000000                 150.000000"
      ]
     },
     "metadata": {},
     "output_type": "display_data"
    }
   ],
   "source": [
    "display(clientes.info()) #entendo que os dados estão com tipagem adequada, e com as alterações, consegui uma redução de 42% na quantidade de memoria utilizada.\n",
    "\n",
    "\n",
    "display(clientes.describe())"
   ]
  }
 ],
 "metadata": {
  "kernelspec": {
   "display_name": "Python 3.10.6 64-bit",
   "language": "python",
   "name": "python3"
  },
  "language_info": {
   "codemirror_mode": {
    "name": "ipython",
    "version": 3
   },
   "file_extension": ".py",
   "mimetype": "text/x-python",
   "name": "python",
   "nbconvert_exporter": "python",
   "pygments_lexer": "ipython3",
   "version": "3.10.6"
  },
  "orig_nbformat": 4,
  "vscode": {
   "interpreter": {
    "hash": "31f2aee4e71d21fbe5cf8b01ff0e069b9275f58929596ceb00d14d90e3e16cd6"
   }
  }
 },
 "nbformat": 4,
 "nbformat_minor": 2
}
