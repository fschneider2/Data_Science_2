{
 "cells": [
  {
   "cell_type": "markdown",
   "metadata": {},
   "source": [
    "1) Crie uma RegEx para verificar se existe um email em uma string. O email deve ter um nome@dominio.com\n",
    "2) Crie uma RegEx para verificar se um CPF está no formato correto\n",
    "3) Verificar se data e hora estão no formato correto dia/mes/ano hora:minuto:segundo\n",
    "4) Verificar se a frase indica a idade de uma pessoa"
   ]
  },
  {
   "cell_type": "code",
   "execution_count": 1,
   "metadata": {},
   "outputs": [],
   "source": [
    "import re"
   ]
  },
  {
   "cell_type": "markdown",
   "metadata": {},
   "source": [
    "1) Crie uma RegEx para verificar se existe um email em uma string. O email deve ter um nome@dominio.com"
   ]
  },
  {
   "cell_type": "code",
   "execution_count": 6,
   "metadata": {},
   "outputs": [
    {
     "data": {
      "text/plain": [
       "'f@g.com.br'"
      ]
     },
     "execution_count": 6,
     "metadata": {},
     "output_type": "execute_result"
    }
   ],
   "source": [
    "entrada = input('digite seu email: ')\n",
    "\n",
    "padrao = \"^\\w+[@]+\\w+[.]+\\w\"\n",
    "\n",
    "verificar = re.search(padrao, entrada)\n",
    "\n",
    "verificar.string"
   ]
  },
  {
   "cell_type": "markdown",
   "metadata": {},
   "source": [
    "2) Crie uma RegEx para verificar se um CPF está no formato correto"
   ]
  },
  {
   "cell_type": "code",
   "execution_count": null,
   "metadata": {},
   "outputs": [],
   "source": [
    "cpf_informado = input('Informe seu CPF no formato: xxx.xxx.xxx-xx') \n",
    "\n",
    "padrao = \"^\\d{3}[.]\\d{3}[.]\\d{3}[-]\\d{2}$\" \n",
    "\n",
    "verificar = re.search(padrao, cpf_informado)"
   ]
  },
  {
   "cell_type": "markdown",
   "metadata": {},
   "source": [
    "3) Verificar se data e hora estão no formato correto dia/mes/ano hora:minuto:segundo"
   ]
  },
  {
   "cell_type": "code",
   "execution_count": 28,
   "metadata": {},
   "outputs": [
    {
     "data": {
      "text/plain": [
       "'12/02/2012 13:50:20'"
      ]
     },
     "execution_count": 28,
     "metadata": {},
     "output_type": "execute_result"
    }
   ],
   "source": [
    "data = \"12/02/2012 13:50:20\"\n",
    "\n",
    "padrao = \"^\\d{2}[/]\\d{2}[/]\\d{4}[*\\s]\\d{2}[:]\\d{2}[:]\\d{2}$\"\n",
    "\n",
    "verificar = re.search(padrao, data)\n",
    "\n",
    "verificar.string"
   ]
  },
  {
   "cell_type": "markdown",
   "metadata": {},
   "source": [
    "4) Verificar se a frase indica a idade de uma pessoa"
   ]
  },
  {
   "cell_type": "code",
   "execution_count": 10,
   "metadata": {},
   "outputs": [
    {
     "data": {
      "text/plain": [
       "'tenho 1325635898 anos'"
      ]
     },
     "execution_count": 10,
     "metadata": {},
     "output_type": "execute_result"
    }
   ],
   "source": [
    "frase = input('Informe a frase: ')\n",
    "\n",
    "padrao = \"\\d+[ anos]\"\n",
    "\n",
    "verificar = re.search(padrao, frase)\n",
    "\n",
    "verificar.string"
   ]
  }
 ],
 "metadata": {
  "kernelspec": {
   "display_name": "Python 3.10.6 64-bit",
   "language": "python",
   "name": "python3"
  },
  "language_info": {
   "codemirror_mode": {
    "name": "ipython",
    "version": 3
   },
   "file_extension": ".py",
   "mimetype": "text/x-python",
   "name": "python",
   "nbconvert_exporter": "python",
   "pygments_lexer": "ipython3",
   "version": "3.10.6"
  },
  "orig_nbformat": 4,
  "vscode": {
   "interpreter": {
    "hash": "31f2aee4e71d21fbe5cf8b01ff0e069b9275f58929596ceb00d14d90e3e16cd6"
   }
  }
 },
 "nbformat": 4,
 "nbformat_minor": 2
}
