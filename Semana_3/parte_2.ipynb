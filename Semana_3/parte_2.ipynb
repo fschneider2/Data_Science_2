{
 "cells": [
  {
   "cell_type": "markdown",
   "metadata": {},
   "source": [
    "Utilize os recursos relativos a manipulação de strings para responder aos\n",
    "seguintes questionamentos.\n",
    "1) Transforme a data ‘2022/09/21’ em ‘21-09-2022’.\n",
    "2) Faça um programa que verifique quais caracteres são diferentes entre duas\n",
    "strings, apontando quais são e em que posição estão. A comparação deve\n",
    "ser caracter por caracter.\n",
    "3) Faça um programa que solicite a data de nascimento (dd/mm/aaaa) do\n",
    "usuário e imprima a data com o nome do mês por extenso.\n",
    "4) Verifique se uma string é um palíndromo. Um palíndromo é uma seqüência\n",
    "de caracteres cuja leitura é idêntica se feita da direita para esquerda ou\n",
    "vice−versa.\n",
    "5) Desenvolva um programa que solicite a digitação de um número de CPF no\n",
    "formato xxx.xxx.xxx-xx e verifique se o número realmente foi digitado no\n",
    "formato correto."
   ]
  },
  {
   "cell_type": "code",
   "execution_count": null,
   "metadata": {},
   "outputs": [],
   "source": []
  }
 ],
 "metadata": {
  "kernelspec": {
   "display_name": "Python 3.10.6 64-bit",
   "language": "python",
   "name": "python3"
  },
  "language_info": {
   "name": "python",
   "version": "3.10.6"
  },
  "orig_nbformat": 4,
  "vscode": {
   "interpreter": {
    "hash": "31f2aee4e71d21fbe5cf8b01ff0e069b9275f58929596ceb00d14d90e3e16cd6"
   }
  }
 },
 "nbformat": 4,
 "nbformat_minor": 2
}
