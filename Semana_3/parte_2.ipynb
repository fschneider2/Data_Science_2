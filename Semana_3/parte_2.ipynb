{
 "cells": [
  {
   "cell_type": "markdown",
   "metadata": {},
   "source": [
    "Utilize os recursos relativos a manipulação de strings para responder aos\n",
    "seguintes questionamentos.\n",
    "1) Transforme a data ‘2022/09/21’ em ‘21-09-2022’.\n",
    "2) Faça um programa que verifique quais caracteres são diferentes entre duas\n",
    "strings, apontando quais são e em que posição estão. A comparação deve\n",
    "ser caracter por caracter.\n",
    "3) Faça um programa que solicite a data de nascimento (dd/mm/aaaa) do\n",
    "usuário e imprima a data com o nome do mês por extenso.\n",
    "4) Verifique se uma string é um palíndromo. Um palíndromo é uma seqüência\n",
    "de caracteres cuja leitura é idêntica se feita da direita para esquerda ou\n",
    "vice−versa.\n",
    "5) Desenvolva um programa que solicite a digitação de um número de CPF no\n",
    "formato xxx.xxx.xxx-xx e verifique se o número realmente foi digitado no\n",
    "formato correto."
   ]
  },
  {
   "cell_type": "code",
   "execution_count": 1,
   "metadata": {},
   "outputs": [],
   "source": [
    "import pandas as pd\n",
    "import numpy as pd\n",
    "from datetime import datetime\n",
    "import calendar\n",
    "import locale\n",
    "import re"
   ]
  },
  {
   "cell_type": "markdown",
   "metadata": {},
   "source": [
    "1) Transforme a data ‘2022/09/21’ em ‘21-09-2022’."
   ]
  },
  {
   "cell_type": "code",
   "execution_count": 2,
   "metadata": {},
   "outputs": [
    {
     "data": {
      "text/plain": [
       "'21-01-2022'"
      ]
     },
     "metadata": {},
     "output_type": "display_data"
    }
   ],
   "source": [
    "data = '2022/09/21'\n",
    "\n",
    "data = datetime.strptime(data, \"%Y/%M/%d\")\n",
    "\n",
    "data = f'{data.day}-0{data.month}-{data.year}'\n",
    "\n",
    "display(data)\n"
   ]
  },
  {
   "cell_type": "markdown",
   "metadata": {},
   "source": [
    "2) Faça um programa que verifique quais caracteres são diferentes entre duas\n",
    "strings, apontando quais são e em que posição estão. A comparação deve\n",
    "ser caracter por caracter."
   ]
  },
  {
   "cell_type": "code",
   "execution_count": 3,
   "metadata": {},
   "outputs": [
    {
     "name": "stdout",
     "output_type": "stream",
     "text": [
      "String 1: amor\n",
      "\n",
      "String comparação: roma\n",
      "\n"
     ]
    }
   ],
   "source": [
    "str_entrada = input('Informe s string 1:\\n')\n",
    "\n",
    "print(f'String 1: {str_entrada}')\n",
    "\n",
    "str_comparacao = input('Agora informe string para comparação: ')\n",
    "\n",
    "print(f'\\nString comparação: {str_comparacao}\\n')"
   ]
  },
  {
   "cell_type": "code",
   "execution_count": 4,
   "metadata": {},
   "outputs": [
    {
     "data": {
      "text/plain": [
       "'Caracter entrada: a, Caracter comparação: r, posição: 0: Diferente'"
      ]
     },
     "metadata": {},
     "output_type": "display_data"
    },
    {
     "data": {
      "text/plain": [
       "'Caracter entrada: m, Caracter comparação: o, posição: 1: Diferente'"
      ]
     },
     "metadata": {},
     "output_type": "display_data"
    },
    {
     "data": {
      "text/plain": [
       "'Caracter entrada: o, Caracter comparação: m, posição: 2: Diferente'"
      ]
     },
     "metadata": {},
     "output_type": "display_data"
    },
    {
     "data": {
      "text/plain": [
       "'Caracter entrada: r, Caracter comparação: a, posição: 3: Diferente'"
      ]
     },
     "metadata": {},
     "output_type": "display_data"
    }
   ],
   "source": [
    "y = 0\n",
    "\n",
    "if len(str_entrada) < len(str_comparacao): # para evitar um erro ao fim da execusão, se utiliza essa analise\n",
    "                                           # para definir qual o tamanho do range que sera executado, no caso ele fará com o tamanho da str menor.\n",
    "    x = len(str_entrada)\n",
    "else:\n",
    "    x = len(str_comparacao)\n",
    "\n",
    "\n",
    "for i in range(x):\n",
    "    if str_entrada[y] != str_comparacao[y]: # faz a comparação, letra[0] com letra[0], e informa se é igual ou diferente\n",
    "        display(f'Caracter entrada: {str_entrada[y]}, Caracter comparação: {str_comparacao[y]}, posição: {y}: Diferente')\n",
    "    else:\n",
    "        display(f'Caracter entrada: {str_entrada[y]}, Caracter comparação: {str_comparacao[y]},  posição: {y}: Igual') \n",
    "    y += 1 # contador utilizado para percorrer todas as letras das palavras"
   ]
  },
  {
   "cell_type": "markdown",
   "metadata": {},
   "source": [
    "3) Faça um programa que solicite a data de nascimento (dd/mm/aaaa) do\n",
    "usuário e imprima a data com o nome do mês por extenso."
   ]
  },
  {
   "cell_type": "code",
   "execution_count": 5,
   "metadata": {},
   "outputs": [
    {
     "data": {
      "text/plain": [
       "'14 November 1991'"
      ]
     },
     "execution_count": 5,
     "metadata": {},
     "output_type": "execute_result"
    }
   ],
   "source": [
    "data_aniversario = input('Informe a data de seu nascimento: ')\n",
    "\n",
    "date_time = datetime.strptime(data_aniversario, \"%d/%m/%Y\") # transformando a entrada em um datetime\n",
    "\n",
    "mes = calendar.month_name[date_time.month] # tratando o mês e uttilizando o calendar, exindo o mesmo por extenso\n",
    "\n",
    "locale.setlocale(locale.LC_ALL, \"pt_BR.UTF-8\") # utilizando o locale para traduzir o conteudo do mÊs\n",
    "\n",
    "data = f'{date_time.day} {mes} {date_time.year}' # montando a data em string\n",
    "\n",
    "data"
   ]
  },
  {
   "cell_type": "markdown",
   "metadata": {},
   "source": [
    "4) Verifique se uma string é um palíndromo. Um palíndromo é uma seqüência\n",
    "de caracteres cuja leitura é idêntica se feita da direita para esquerda ou\n",
    "vice−versa."
   ]
  },
  {
   "cell_type": "code",
   "execution_count": 6,
   "metadata": {},
   "outputs": [
    {
     "name": "stdout",
     "output_type": "stream",
     "text": [
      "Digite uma palavra que irei lhe informar se ela é ou não um palíndromo: \n",
      "Palavra digitada: amor\n",
      "\n",
      "Sua palavra não é um palíndromo, invertendo ela fica: roma\n",
      "\n",
      "Um exemplo de palíndromo é a palavra reviver, se lida de traz para frente, tem o mesmo significado\n"
     ]
    }
   ],
   "source": [
    "print('Digite uma palavra que irei lhe informar se ela é ou não um palíndromo: ')\n",
    "\n",
    "palavra_entrada = input('Digite a palavra')\n",
    "\n",
    "print(f'Palavra digitada: {palavra_entrada}\\n')\n",
    "\n",
    "palavra_inversa = palavra_entrada[::-1]\n",
    "\n",
    "if palavra_inversa == palavra_entrada:\n",
    "    print(f'Sua palavra é um palindromo: {palavra_inversa}')\n",
    "\n",
    "else:\n",
    "    print(f'Sua palavra não é um palíndromo, invertendo ela fica: {palavra_inversa}')\n",
    "    print('\\nUm exemplo de palíndromo é a palavra reviver, se lida de traz para frente, tem o mesmo significado')\n",
    "\n"
   ]
  },
  {
   "cell_type": "markdown",
   "metadata": {},
   "source": [
    "5) Desenvolva um programa que solicite a digitação de um número de CPF no\n",
    "formato xxx.xxx.xxx-xx e verifique se o número realmente foi digitado no\n",
    "formato correto."
   ]
  },
  {
   "cell_type": "code",
   "execution_count": 7,
   "metadata": {},
   "outputs": [
    {
     "name": "stdout",
     "output_type": "stream",
     "text": [
      "CPF digitado de forma correta!\n"
     ]
    }
   ],
   "source": [
    "correto = False\n",
    "\n",
    "while correto == False: # criando um laço de repetição, no intuito de buscar o preenchimento correto da informação\n",
    "\n",
    "    cpf_informado = input('Informe seu CPF no formato: xxx.xxx.xxx-xx') \n",
    "\n",
    "    padrao = \"^\\d{3}[.]\\d{3}[.]\\d{3}[-]\\d{2}$\" # criando o padrão do RegEx, o ^indica como deve ser iniciado e o \\d identifica que pode ser digitado qualquer número, o {3} e {2}\n",
    "                                               # indicam a quantidade exata de caracteres o [.] e [-] são os separadores, $ indica que a str termina daquela forma.\n",
    "\n",
    "    verificar = re.search(padrao, cpf_informado)\n",
    "    \n",
    "    try: \n",
    "        verificar_cpf = verificar.string # para filtrar, usei a filtragem de erro, dessa forma, ou ele executa de forma correta, o re identifica o CPF e joga na variavel\n",
    "                                         # ou vai dar um erro, que será tratado com o except\n",
    "        print('CPF digitado de forma correta!')\n",
    "        correto = True\n",
    "\n",
    "    except:\n",
    "        print(f'CPF DIGITADO INCORRETAMENTE {cpf_informado}')\n",
    "        print('Informe seu CPF no formato: xxx.xxx.xxx-xx')\n",
    "        cpf_informado = input()"
   ]
  }
 ],
 "metadata": {
  "kernelspec": {
   "display_name": "Python 3.10.6 64-bit",
   "language": "python",
   "name": "python3"
  },
  "language_info": {
   "codemirror_mode": {
    "name": "ipython",
    "version": 3
   },
   "file_extension": ".py",
   "mimetype": "text/x-python",
   "name": "python",
   "nbconvert_exporter": "python",
   "pygments_lexer": "ipython3",
   "version": "3.10.6"
  },
  "orig_nbformat": 4,
  "vscode": {
   "interpreter": {
    "hash": "31f2aee4e71d21fbe5cf8b01ff0e069b9275f58929596ceb00d14d90e3e16cd6"
   }
  }
 },
 "nbformat": 4,
 "nbformat_minor": 2
}
