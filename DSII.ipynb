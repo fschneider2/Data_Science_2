{
  "nbformat": 4,
  "nbformat_minor": 0,
  "metadata": {
    "colab": {
      "provenance": [],
      "mount_file_id": "1aYhEea_NlnehlDIdh4MNmqCiMjx_fvSY",
      "authorship_tag": "ABX9TyOFW0NsjrAIcxT+gQP/DdNh",
      "include_colab_link": true
    },
    "kernelspec": {
      "name": "python3",
      "display_name": "Python 3"
    },
    "language_info": {
      "name": "python"
    }
  },
  "cells": [
    {
      "cell_type": "markdown",
      "metadata": {
        "id": "view-in-github",
        "colab_type": "text"
      },
      "source": [
        "<a href=\"https://colab.research.google.com/github/fschneider2/Data_Science_2/blob/main/DSII.ipynb\" target=\"_parent\"><img src=\"https://colab.research.google.com/assets/colab-badge.svg\" alt=\"Open In Colab\"/></a>"
      ]
    },
    {
      "cell_type": "markdown",
      "source": [
        "# Aula 1"
      ],
      "metadata": {
        "id": "AFCz7sVd5uOp"
      }
    },
    {
      "cell_type": "code",
      "execution_count": null,
      "metadata": {
        "id": "kW-0rEV-5ozJ"
      },
      "outputs": [],
      "source": [
        "import pandas as pd"
      ]
    },
    {
      "cell_type": "markdown",
      "source": [
        "### 1- Faça a concatenação das bases de dados e encontre qual o gênero de livro correspondente a cada livro.\n",
        "\n",
        "2 - Faça a concatenação das bases de dados de livros e livros_genero e encontre qual os gêneros e os autores que não possuem um livro correspondente.\n",
        "\n",
        "3 - Faça a junção das bases de livros e livros clássicos.\n",
        "\n",
        "4 - Faça a junção das bases de livros e livros clássicos apenas com os elementos em comum entre ambos e remova os índices dos antigos dataframes."
      ],
      "metadata": {
        "id": "pOIR7u0hb4DE"
      }
    },
    {
      "cell_type": "code",
      "source": [
        "livros = pd.read_csv('/content/drive/MyDrive/livros.csv')\n",
        "\n",
        "livros_classicos = pd.read_csv('/content/drive/MyDrive/livros_classicos.csv')\n",
        "\n",
        "livros_genero = pd.read_csv('/content/drive/MyDrive/livros_genero.csv')"
      ],
      "metadata": {
        "id": "Y_1UEbF459c6"
      },
      "execution_count": null,
      "outputs": []
    },
    {
      "cell_type": "code",
      "source": [],
      "metadata": {
        "id": "pVgKY5Y-59Zy"
      },
      "execution_count": null,
      "outputs": []
    },
    {
      "cell_type": "code",
      "source": [],
      "metadata": {
        "id": "T2Rq92m159Us"
      },
      "execution_count": null,
      "outputs": []
    },
    {
      "cell_type": "code",
      "source": [],
      "metadata": {
        "id": "W4ycmc4L59Fl"
      },
      "execution_count": null,
      "outputs": []
    }
  ]
}